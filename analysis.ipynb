{
  "cells": [
    {
      "cell_type": "markdown",
      "metadata": {
        "id": "view-in-github",
        "colab_type": "text"
      },
      "source": [
        "<a href=\"https://colab.research.google.com/github/FazilKlkt/da_assignment/blob/main/analysis.ipynb\" target=\"_parent\"><img src=\"https://colab.research.google.com/assets/colab-badge.svg\" alt=\"Open In Colab\"/></a>"
      ]
    },
    {
      "cell_type": "code",
      "execution_count": null,
      "metadata": {
        "id": "g3s0lBB9mu4e"
      },
      "outputs": [],
      "source": [
        "import numpy as np\n",
        "import pandas as pd\n",
        "import matplotlib.pyplot as plt\n",
        "import seaborn as sns\n",
        "import plotly.express as px"
      ]
    },
    {
      "cell_type": "code",
      "execution_count": null,
      "metadata": {
        "id": "0bEnlLLhmu4k"
      },
      "outputs": [],
      "source": [
        "df = pd.read_excel('./P9-GlobalMethaneEmissions.xlsx')"
      ]
    },
    {
      "cell_type": "code",
      "execution_count": null,
      "metadata": {
        "id": "NdcNgajrmu4l",
        "outputId": "b8d9e506-cdac-42e4-b681-4199a6970428"
      },
      "outputs": [
        {
          "name": "stdout",
          "output_type": "stream",
          "text": [
            "<class 'pandas.core.frame.DataFrame'>\n",
            "RangeIndex: 1548 entries, 0 to 1547\n",
            "Data columns (total 9 columns):\n",
            " #   Column      Non-Null Count  Dtype  \n",
            "---  ------      --------------  -----  \n",
            " 0   Unnamed: 0  1548 non-null   int64  \n",
            " 1   region      1548 non-null   object \n",
            " 2   country     1548 non-null   object \n",
            " 3   emissions   1548 non-null   float64\n",
            " 4   type        1548 non-null   object \n",
            " 5   segment     1548 non-null   object \n",
            " 6   reason      1548 non-null   object \n",
            " 7   baseYear    1548 non-null   object \n",
            " 8   notes       1548 non-null   object \n",
            "dtypes: float64(1), int64(1), object(7)\n",
            "memory usage: 109.0+ KB\n"
          ]
        }
      ],
      "source": [
        "df.info()"
      ]
    },
    {
      "cell_type": "code",
      "execution_count": null,
      "metadata": {
        "id": "JXFBdOxDmu4m",
        "outputId": "c85ff6e0-8b1b-4cde-d033-4e6e332d4a81"
      },
      "outputs": [
        {
          "data": {
            "text/plain": [
              "(1548, 9)"
            ]
          },
          "execution_count": 54,
          "metadata": {},
          "output_type": "execute_result"
        }
      ],
      "source": [
        "df.shape"
      ]
    },
    {
      "cell_type": "code",
      "execution_count": null,
      "metadata": {
        "id": "MD4A0c2Lmu4n",
        "outputId": "5ee1b730-a483-4793-b643-fecbbd012a3b"
      },
      "outputs": [
        {
          "name": "stdout",
          "output_type": "stream",
          "text": [
            "<class 'pandas.core.frame.DataFrame'>\n",
            "RangeIndex: 1548 entries, 0 to 1547\n",
            "Data columns (total 9 columns):\n",
            " #   Column      Non-Null Count  Dtype  \n",
            "---  ------      --------------  -----  \n",
            " 0   Unnamed: 0  1548 non-null   int64  \n",
            " 1   region      1548 non-null   object \n",
            " 2   country     1548 non-null   object \n",
            " 3   emissions   1548 non-null   float64\n",
            " 4   type        1548 non-null   object \n",
            " 5   segment     1548 non-null   object \n",
            " 6   reason      1548 non-null   object \n",
            " 7   baseYear    1548 non-null   object \n",
            " 8   notes       1548 non-null   object \n",
            "dtypes: float64(1), int64(1), object(7)\n",
            "memory usage: 109.0+ KB\n"
          ]
        }
      ],
      "source": [
        "df.info()"
      ]
    },
    {
      "cell_type": "code",
      "execution_count": null,
      "metadata": {
        "id": "ftgiyaM2mu4o",
        "outputId": "5e6d0f07-5b1d-4297-d0bb-df9f9d429b4d"
      },
      "outputs": [
        {
          "data": {
            "text/plain": [
              "array(['Agriculture', 'Energy', 'Other', 'Waste'], dtype=object)"
            ]
          },
          "execution_count": 56,
          "metadata": {},
          "output_type": "execute_result"
        }
      ],
      "source": [
        "df.type.unique()"
      ]
    },
    {
      "cell_type": "code",
      "execution_count": null,
      "metadata": {
        "id": "opnfPO4jmu4p",
        "outputId": "04b0896d-30ec-4b31-9934-bc84e308ce3e"
      },
      "outputs": [
        {
          "data": {
            "text/plain": [
              "array(['All', 'Fugitive', 'Vented', 'Flared'], dtype=object)"
            ]
          },
          "execution_count": 57,
          "metadata": {},
          "output_type": "execute_result"
        }
      ],
      "source": [
        "df.reason.unique()"
      ]
    },
    {
      "cell_type": "code",
      "execution_count": null,
      "metadata": {
        "id": "EYsS0kk7mu4q",
        "outputId": "33df0bd7-b0e2-48d0-a8d5-e0f024ce484d"
      },
      "outputs": [
        {
          "data": {
            "text/plain": [
              "array(['Africa', 'Asia Pacific', 'Central and South America', 'Europe',\n",
              "       'Middle East', 'North America', 'Other', 'Russia & Caspian',\n",
              "       'World'], dtype=object)"
            ]
          },
          "execution_count": 58,
          "metadata": {},
          "output_type": "execute_result"
        }
      ],
      "source": [
        "df.region.unique()"
      ]
    },
    {
      "cell_type": "code",
      "execution_count": null,
      "metadata": {
        "id": "7L1Dmq13mu4q",
        "outputId": "7f1f5ece-e51a-4a84-c3c8-040c96e6f819"
      },
      "outputs": [
        {
          "data": {
            "text/html": [
              "<div>\n",
              "<style scoped>\n",
              "    .dataframe tbody tr th:only-of-type {\n",
              "        vertical-align: middle;\n",
              "    }\n",
              "\n",
              "    .dataframe tbody tr th {\n",
              "        vertical-align: top;\n",
              "    }\n",
              "\n",
              "    .dataframe thead th {\n",
              "        text-align: right;\n",
              "    }\n",
              "</style>\n",
              "<table border=\"1\" class=\"dataframe\">\n",
              "  <thead>\n",
              "    <tr style=\"text-align: right;\">\n",
              "      <th></th>\n",
              "      <th>count</th>\n",
              "      <th>mean</th>\n",
              "      <th>std</th>\n",
              "      <th>min</th>\n",
              "      <th>25%</th>\n",
              "      <th>50%</th>\n",
              "      <th>75%</th>\n",
              "      <th>max</th>\n",
              "    </tr>\n",
              "  </thead>\n",
              "  <tbody>\n",
              "    <tr>\n",
              "      <th>emissions</th>\n",
              "      <td>1116.0</td>\n",
              "      <td>121.27871</td>\n",
              "      <td>587.877635</td>\n",
              "      <td>0.0</td>\n",
              "      <td>1.3875</td>\n",
              "      <td>10.935</td>\n",
              "      <td>54.845</td>\n",
              "      <td>14809.0</td>\n",
              "    </tr>\n",
              "  </tbody>\n",
              "</table>\n",
              "</div>"
            ],
            "text/plain": [
              "            count       mean         std  min     25%     50%     75%      max\n",
              "emissions  1116.0  121.27871  587.877635  0.0  1.3875  10.935  54.845  14809.0"
            ]
          },
          "execution_count": 72,
          "metadata": {},
          "output_type": "execute_result"
        }
      ],
      "source": [
        "df.describe().T"
      ]
    },
    {
      "cell_type": "code",
      "execution_count": null,
      "metadata": {
        "id": "xjwETsiwmu4r"
      },
      "outputs": [],
      "source": [
        "df.drop(columns=['Unnamed: 0'],inplace=True)\n",
        "df=df[(df[\"region\"]!='World') & (df['segment']!='Total')]"
      ]
    },
    {
      "cell_type": "code",
      "execution_count": null,
      "metadata": {
        "id": "DxPhazXCmu4s",
        "outputId": "859f11c9-bb66-4926-d9a4-c7dab94885a9"
      },
      "outputs": [
        {
          "data": {
            "text/html": [
              "<div>\n",
              "<style scoped>\n",
              "    .dataframe tbody tr th:only-of-type {\n",
              "        vertical-align: middle;\n",
              "    }\n",
              "\n",
              "    .dataframe tbody tr th {\n",
              "        vertical-align: top;\n",
              "    }\n",
              "\n",
              "    .dataframe thead th {\n",
              "        text-align: right;\n",
              "    }\n",
              "</style>\n",
              "<table border=\"1\" class=\"dataframe\">\n",
              "  <thead>\n",
              "    <tr style=\"text-align: right;\">\n",
              "      <th></th>\n",
              "      <th>region</th>\n",
              "      <th>country</th>\n",
              "      <th>emissions</th>\n",
              "      <th>type</th>\n",
              "      <th>segment</th>\n",
              "      <th>reason</th>\n",
              "      <th>baseYear</th>\n",
              "      <th>notes</th>\n",
              "    </tr>\n",
              "  </thead>\n",
              "  <tbody>\n",
              "    <tr>\n",
              "      <th>1</th>\n",
              "      <td>Africa</td>\n",
              "      <td>Algeria</td>\n",
              "      <td>0.052000</td>\n",
              "      <td>Energy</td>\n",
              "      <td>Bioenergy</td>\n",
              "      <td>All</td>\n",
              "      <td>2022</td>\n",
              "      <td>Estimates from end-uses are for 2020 or 2021 (...</td>\n",
              "    </tr>\n",
              "    <tr>\n",
              "      <th>2</th>\n",
              "      <td>Africa</td>\n",
              "      <td>Algeria</td>\n",
              "      <td>130.798996</td>\n",
              "      <td>Energy</td>\n",
              "      <td>Gas pipelines and LNG facilities</td>\n",
              "      <td>Fugitive</td>\n",
              "      <td>2022</td>\n",
              "      <td>Not available</td>\n",
              "    </tr>\n",
              "    <tr>\n",
              "      <th>3</th>\n",
              "      <td>Africa</td>\n",
              "      <td>Algeria</td>\n",
              "      <td>69.741898</td>\n",
              "      <td>Energy</td>\n",
              "      <td>Gas pipelines and LNG facilities</td>\n",
              "      <td>Vented</td>\n",
              "      <td>2022</td>\n",
              "      <td>Not available</td>\n",
              "    </tr>\n",
              "    <tr>\n",
              "      <th>4</th>\n",
              "      <td>Africa</td>\n",
              "      <td>Algeria</td>\n",
              "      <td>213.987000</td>\n",
              "      <td>Energy</td>\n",
              "      <td>Onshore gas</td>\n",
              "      <td>Fugitive</td>\n",
              "      <td>2022</td>\n",
              "      <td>Not available</td>\n",
              "    </tr>\n",
              "    <tr>\n",
              "      <th>5</th>\n",
              "      <td>Africa</td>\n",
              "      <td>Algeria</td>\n",
              "      <td>464.308014</td>\n",
              "      <td>Energy</td>\n",
              "      <td>Onshore gas</td>\n",
              "      <td>Vented</td>\n",
              "      <td>2022</td>\n",
              "      <td>Not available</td>\n",
              "    </tr>\n",
              "  </tbody>\n",
              "</table>\n",
              "</div>"
            ],
            "text/plain": [
              "   region  country   emissions    type                           segment  \\\n",
              "1  Africa  Algeria    0.052000  Energy                         Bioenergy   \n",
              "2  Africa  Algeria  130.798996  Energy  Gas pipelines and LNG facilities   \n",
              "3  Africa  Algeria   69.741898  Energy  Gas pipelines and LNG facilities   \n",
              "4  Africa  Algeria  213.987000  Energy                       Onshore gas   \n",
              "5  Africa  Algeria  464.308014  Energy                       Onshore gas   \n",
              "\n",
              "     reason baseYear                                              notes  \n",
              "1       All     2022  Estimates from end-uses are for 2020 or 2021 (...  \n",
              "2  Fugitive     2022                                      Not available  \n",
              "3    Vented     2022                                      Not available  \n",
              "4  Fugitive     2022                                      Not available  \n",
              "5    Vented     2022                                      Not available  "
            ]
          },
          "execution_count": 60,
          "metadata": {},
          "output_type": "execute_result"
        }
      ],
      "source": [
        "df.head()"
      ]
    },
    {
      "cell_type": "code",
      "execution_count": null,
      "metadata": {
        "id": "joyjb3mkmu4s"
      },
      "outputs": [],
      "source": [
        "df.emissions=df.emissions.apply(lambda x:round(x,2))"
      ]
    },
    {
      "cell_type": "code",
      "execution_count": null,
      "metadata": {
        "id": "B24ya3ULmu4s",
        "outputId": "02f48882-7116-4b99-a214-4cf3da87072a"
      },
      "outputs": [
        {
          "data": {
            "text/html": [
              "<div>\n",
              "<style scoped>\n",
              "    .dataframe tbody tr th:only-of-type {\n",
              "        vertical-align: middle;\n",
              "    }\n",
              "\n",
              "    .dataframe tbody tr th {\n",
              "        vertical-align: top;\n",
              "    }\n",
              "\n",
              "    .dataframe thead th {\n",
              "        text-align: right;\n",
              "    }\n",
              "</style>\n",
              "<table border=\"1\" class=\"dataframe\">\n",
              "  <thead>\n",
              "    <tr style=\"text-align: right;\">\n",
              "      <th></th>\n",
              "      <th>region</th>\n",
              "      <th>country</th>\n",
              "      <th>emissions</th>\n",
              "      <th>type</th>\n",
              "      <th>segment</th>\n",
              "      <th>reason</th>\n",
              "      <th>baseYear</th>\n",
              "      <th>notes</th>\n",
              "    </tr>\n",
              "  </thead>\n",
              "  <tbody>\n",
              "    <tr>\n",
              "      <th>1</th>\n",
              "      <td>Africa</td>\n",
              "      <td>Algeria</td>\n",
              "      <td>0.05</td>\n",
              "      <td>Energy</td>\n",
              "      <td>Bioenergy</td>\n",
              "      <td>All</td>\n",
              "      <td>2022</td>\n",
              "      <td>Estimates from end-uses are for 2020 or 2021 (...</td>\n",
              "    </tr>\n",
              "    <tr>\n",
              "      <th>2</th>\n",
              "      <td>Africa</td>\n",
              "      <td>Algeria</td>\n",
              "      <td>130.80</td>\n",
              "      <td>Energy</td>\n",
              "      <td>Gas pipelines and LNG facilities</td>\n",
              "      <td>Fugitive</td>\n",
              "      <td>2022</td>\n",
              "      <td>Not available</td>\n",
              "    </tr>\n",
              "    <tr>\n",
              "      <th>3</th>\n",
              "      <td>Africa</td>\n",
              "      <td>Algeria</td>\n",
              "      <td>69.74</td>\n",
              "      <td>Energy</td>\n",
              "      <td>Gas pipelines and LNG facilities</td>\n",
              "      <td>Vented</td>\n",
              "      <td>2022</td>\n",
              "      <td>Not available</td>\n",
              "    </tr>\n",
              "    <tr>\n",
              "      <th>4</th>\n",
              "      <td>Africa</td>\n",
              "      <td>Algeria</td>\n",
              "      <td>213.99</td>\n",
              "      <td>Energy</td>\n",
              "      <td>Onshore gas</td>\n",
              "      <td>Fugitive</td>\n",
              "      <td>2022</td>\n",
              "      <td>Not available</td>\n",
              "    </tr>\n",
              "    <tr>\n",
              "      <th>5</th>\n",
              "      <td>Africa</td>\n",
              "      <td>Algeria</td>\n",
              "      <td>464.31</td>\n",
              "      <td>Energy</td>\n",
              "      <td>Onshore gas</td>\n",
              "      <td>Vented</td>\n",
              "      <td>2022</td>\n",
              "      <td>Not available</td>\n",
              "    </tr>\n",
              "  </tbody>\n",
              "</table>\n",
              "</div>"
            ],
            "text/plain": [
              "   region  country  emissions    type                           segment  \\\n",
              "1  Africa  Algeria       0.05  Energy                         Bioenergy   \n",
              "2  Africa  Algeria     130.80  Energy  Gas pipelines and LNG facilities   \n",
              "3  Africa  Algeria      69.74  Energy  Gas pipelines and LNG facilities   \n",
              "4  Africa  Algeria     213.99  Energy                       Onshore gas   \n",
              "5  Africa  Algeria     464.31  Energy                       Onshore gas   \n",
              "\n",
              "     reason baseYear                                              notes  \n",
              "1       All     2022  Estimates from end-uses are for 2020 or 2021 (...  \n",
              "2  Fugitive     2022                                      Not available  \n",
              "3    Vented     2022                                      Not available  \n",
              "4  Fugitive     2022                                      Not available  \n",
              "5    Vented     2022                                      Not available  "
            ]
          },
          "execution_count": 62,
          "metadata": {},
          "output_type": "execute_result"
        }
      ],
      "source": [
        "df.head()"
      ]
    },
    {
      "cell_type": "code",
      "execution_count": null,
      "metadata": {
        "id": "RGJVnasVmu4t",
        "outputId": "bee3659f-2575-476c-edee-4e3fa57099f0"
      },
      "outputs": [
        {
          "data": {
            "text/html": [
              "<div>\n",
              "<style scoped>\n",
              "    .dataframe tbody tr th:only-of-type {\n",
              "        vertical-align: middle;\n",
              "    }\n",
              "\n",
              "    .dataframe tbody tr th {\n",
              "        vertical-align: top;\n",
              "    }\n",
              "\n",
              "    .dataframe thead th {\n",
              "        text-align: right;\n",
              "    }\n",
              "</style>\n",
              "<table border=\"1\" class=\"dataframe\">\n",
              "  <thead>\n",
              "    <tr style=\"text-align: right;\">\n",
              "      <th></th>\n",
              "      <th>count</th>\n",
              "      <th>mean</th>\n",
              "      <th>std</th>\n",
              "      <th>min</th>\n",
              "      <th>25%</th>\n",
              "      <th>50%</th>\n",
              "      <th>75%</th>\n",
              "      <th>max</th>\n",
              "    </tr>\n",
              "  </thead>\n",
              "  <tbody>\n",
              "    <tr>\n",
              "      <th>emissions</th>\n",
              "      <td>1116.0</td>\n",
              "      <td>121.27871</td>\n",
              "      <td>587.877635</td>\n",
              "      <td>0.0</td>\n",
              "      <td>1.3875</td>\n",
              "      <td>10.935</td>\n",
              "      <td>54.845</td>\n",
              "      <td>14809.0</td>\n",
              "    </tr>\n",
              "  </tbody>\n",
              "</table>\n",
              "</div>"
            ],
            "text/plain": [
              "            count       mean         std  min     25%     50%     75%      max\n",
              "emissions  1116.0  121.27871  587.877635  0.0  1.3875  10.935  54.845  14809.0"
            ]
          },
          "execution_count": 63,
          "metadata": {},
          "output_type": "execute_result"
        }
      ],
      "source": [
        "df.describe().T"
      ]
    },
    {
      "cell_type": "code",
      "execution_count": null,
      "metadata": {
        "id": "dFIERpD5mu4t",
        "outputId": "f3e05ac9-59a4-4714-d2f5-ca71639e11bd"
      },
      "outputs": [
        {
          "data": {
            "text/plain": [
              "2022    1116\n",
              "Name: baseYear, dtype: int64"
            ]
          },
          "execution_count": 64,
          "metadata": {},
          "output_type": "execute_result"
        }
      ],
      "source": [
        "df.baseYear.value_counts()"
      ]
    },
    {
      "cell_type": "code",
      "execution_count": null,
      "metadata": {
        "id": "Kdqchqzamu4t"
      },
      "outputs": [],
      "source": [
        "df.baseYear=df.baseYear.replace(\"2019-2021\",2020)"
      ]
    },
    {
      "cell_type": "code",
      "execution_count": null,
      "metadata": {
        "id": "x4aHn4ONmu4u",
        "outputId": "39f0ca03-fd4c-4276-b6af-24bb70cdb6c3"
      },
      "outputs": [
        {
          "data": {
            "text/plain": [
              "2022    1116\n",
              "Name: baseYear, dtype: int64"
            ]
          },
          "execution_count": 66,
          "metadata": {},
          "output_type": "execute_result"
        }
      ],
      "source": [
        "df.baseYear.value_counts()"
      ]
    },
    {
      "cell_type": "code",
      "execution_count": null,
      "metadata": {
        "id": "9ZRtwMfgmu4u",
        "outputId": "0e93d000-d84b-4b4f-8a06-a9d45433a159"
      },
      "outputs": [
        {
          "name": "stdout",
          "output_type": "stream",
          "text": [
            "<class 'pandas.core.frame.DataFrame'>\n",
            "Int64Index: 1116 entries, 1 to 1522\n",
            "Data columns (total 2 columns):\n",
            " #   Column     Non-Null Count  Dtype  \n",
            "---  ------     --------------  -----  \n",
            " 0   region     1116 non-null   object \n",
            " 1   emissions  1116 non-null   float64\n",
            "dtypes: float64(1), object(1)\n",
            "memory usage: 26.2+ KB\n"
          ]
        }
      ],
      "source": [
        "df_region_emission = df[['region','emissions']].copy()\n",
        "df_region_emission.info()"
      ]
    },
    {
      "cell_type": "code",
      "execution_count": null,
      "metadata": {
        "id": "0GoPG9mlmu4u",
        "outputId": "174687bc-34c6-4a1c-cd95-c683707c5c7c"
      },
      "outputs": [
        {
          "name": "stdout",
          "output_type": "stream",
          "text": [
            "<class 'pandas.core.frame.DataFrame'>\n",
            "Int64Index: 1116 entries, 1 to 1522\n",
            "Data columns (total 2 columns):\n",
            " #   Column     Non-Null Count  Dtype  \n",
            "---  ------     --------------  -----  \n",
            " 0   type       1116 non-null   object \n",
            " 1   emissions  1116 non-null   float64\n",
            "dtypes: float64(1), object(1)\n",
            "memory usage: 26.2+ KB\n"
          ]
        }
      ],
      "source": [
        "df_type_emission = df[['type','emissions']].copy()\n",
        "df_type_emission.info()"
      ]
    },
    {
      "cell_type": "code",
      "execution_count": null,
      "metadata": {
        "id": "x9-sE31Gmu4v",
        "outputId": "43c8dfb2-560c-4798-a5f7-3c89f58d3bcf"
      },
      "outputs": [
        {
          "name": "stdout",
          "output_type": "stream",
          "text": [
            "<class 'pandas.core.frame.DataFrame'>\n",
            "Int64Index: 1116 entries, 1 to 1522\n",
            "Data columns (total 2 columns):\n",
            " #   Column     Non-Null Count  Dtype  \n",
            "---  ------     --------------  -----  \n",
            " 0   segment    1116 non-null   object \n",
            " 1   emissions  1116 non-null   float64\n",
            "dtypes: float64(1), object(1)\n",
            "memory usage: 26.2+ KB\n"
          ]
        }
      ],
      "source": [
        "df_segment_emission = df[['segment','emissions']].copy()\n",
        "df_segment_emission.info()"
      ]
    },
    {
      "cell_type": "code",
      "execution_count": null,
      "metadata": {
        "id": "M0-JW5yHmu4v",
        "outputId": "7fd42456-4627-4a30-9e5a-afd94da539f2"
      },
      "outputs": [
        {
          "name": "stdout",
          "output_type": "stream",
          "text": [
            "<class 'pandas.core.frame.DataFrame'>\n",
            "Int64Index: 1116 entries, 1 to 1522\n",
            "Data columns (total 2 columns):\n",
            " #   Column     Non-Null Count  Dtype  \n",
            "---  ------     --------------  -----  \n",
            " 0   baseYear   1116 non-null   object \n",
            " 1   emissions  1116 non-null   float64\n",
            "dtypes: float64(1), object(1)\n",
            "memory usage: 26.2+ KB\n"
          ]
        }
      ],
      "source": [
        "df_year_emission = df[['baseYear','emissions']].copy()\n",
        "df_year_emission.info()"
      ]
    },
    {
      "cell_type": "code",
      "execution_count": null,
      "metadata": {
        "id": "21xFooa2mu4v",
        "outputId": "173bf855-80f8-4a2b-c100-d639e6fe5106"
      },
      "outputs": [
        {
          "data": {
            "text/html": [
              "<div>\n",
              "<style scoped>\n",
              "    .dataframe tbody tr th:only-of-type {\n",
              "        vertical-align: middle;\n",
              "    }\n",
              "\n",
              "    .dataframe tbody tr th {\n",
              "        vertical-align: top;\n",
              "    }\n",
              "\n",
              "    .dataframe thead th {\n",
              "        text-align: right;\n",
              "    }\n",
              "</style>\n",
              "<table border=\"1\" class=\"dataframe\">\n",
              "  <thead>\n",
              "    <tr style=\"text-align: right;\">\n",
              "      <th></th>\n",
              "      <th>region</th>\n",
              "      <th>emissions</th>\n",
              "    </tr>\n",
              "  </thead>\n",
              "  <tbody>\n",
              "    <tr>\n",
              "      <th>1</th>\n",
              "      <td>Africa</td>\n",
              "      <td>0.05</td>\n",
              "    </tr>\n",
              "    <tr>\n",
              "      <th>2</th>\n",
              "      <td>Africa</td>\n",
              "      <td>130.80</td>\n",
              "    </tr>\n",
              "    <tr>\n",
              "      <th>3</th>\n",
              "      <td>Africa</td>\n",
              "      <td>69.74</td>\n",
              "    </tr>\n",
              "    <tr>\n",
              "      <th>4</th>\n",
              "      <td>Africa</td>\n",
              "      <td>213.99</td>\n",
              "    </tr>\n",
              "    <tr>\n",
              "      <th>5</th>\n",
              "      <td>Africa</td>\n",
              "      <td>464.31</td>\n",
              "    </tr>\n",
              "  </tbody>\n",
              "</table>\n",
              "</div>"
            ],
            "text/plain": [
              "   region  emissions\n",
              "1  Africa       0.05\n",
              "2  Africa     130.80\n",
              "3  Africa      69.74\n",
              "4  Africa     213.99\n",
              "5  Africa     464.31"
            ]
          },
          "execution_count": 71,
          "metadata": {},
          "output_type": "execute_result"
        }
      ],
      "source": [
        "df_region_emission.head()"
      ]
    },
    {
      "cell_type": "code",
      "execution_count": null,
      "metadata": {
        "id": "_X428puEmu4w",
        "outputId": "9fe3d900-667e-493a-d068-14a0f40d2c7c"
      },
      "outputs": [
        {
          "name": "stdout",
          "output_type": "stream",
          "text": [
            "<class 'pandas.core.frame.DataFrame'>\n",
            "Int64Index: 1116 entries, 1 to 1522\n",
            "Data columns (total 3 columns):\n",
            " #   Column     Non-Null Count  Dtype  \n",
            "---  ------     --------------  -----  \n",
            " 0   region     1116 non-null   object \n",
            " 1   type       1116 non-null   object \n",
            " 2   emissions  1116 non-null   float64\n",
            "dtypes: float64(1), object(2)\n",
            "memory usage: 34.9+ KB\n"
          ]
        }
      ],
      "source": [
        "df_region_type_emission = df[['region','type','emissions']].copy()\n",
        "df_region_type_emission.info()"
      ]
    },
    {
      "cell_type": "code",
      "execution_count": null,
      "metadata": {
        "id": "39isphRFmu4w",
        "outputId": "011eeca3-24f9-41ec-c109-4686fb5e2664"
      },
      "outputs": [
        {
          "name": "stdout",
          "output_type": "stream",
          "text": [
            "<class 'pandas.core.frame.DataFrame'>\n",
            "Int64Index: 1116 entries, 1 to 1522\n",
            "Data columns (total 3 columns):\n",
            " #   Column     Non-Null Count  Dtype  \n",
            "---  ------     --------------  -----  \n",
            " 0   country    1116 non-null   object \n",
            " 1   type       1116 non-null   object \n",
            " 2   emissions  1116 non-null   float64\n",
            "dtypes: float64(1), object(2)\n",
            "memory usage: 34.9+ KB\n"
          ]
        }
      ],
      "source": [
        "df_country_type_emission = df[['country','type','emissions']].copy()\n",
        "df_country_type_emission.info()"
      ]
    },
    {
      "cell_type": "code",
      "execution_count": null,
      "metadata": {
        "id": "RWm62uojmu4w",
        "outputId": "d94a181e-4d36-467a-d9a4-59c789aade04"
      },
      "outputs": [
        {
          "name": "stdout",
          "output_type": "stream",
          "text": [
            "<class 'pandas.core.frame.DataFrame'>\n",
            "Int64Index: 1116 entries, 1 to 1522\n",
            "Data columns (total 3 columns):\n",
            " #   Column     Non-Null Count  Dtype  \n",
            "---  ------     --------------  -----  \n",
            " 0   region     1116 non-null   object \n",
            " 1   segment    1116 non-null   object \n",
            " 2   emissions  1116 non-null   float64\n",
            "dtypes: float64(1), object(2)\n",
            "memory usage: 34.9+ KB\n"
          ]
        }
      ],
      "source": [
        "df_region_segment_emission = df[['region','segment','emissions']].copy()\n",
        "df_region_segment_emission.info()"
      ]
    },
    {
      "cell_type": "code",
      "execution_count": null,
      "metadata": {
        "id": "icAAFkIqmu4w",
        "outputId": "4867c608-cda9-43b3-8bc2-cb066c53994f"
      },
      "outputs": [
        {
          "name": "stdout",
          "output_type": "stream",
          "text": [
            "<class 'pandas.core.frame.DataFrame'>\n",
            "Int64Index: 1116 entries, 1 to 1522\n",
            "Data columns (total 3 columns):\n",
            " #   Column     Non-Null Count  Dtype  \n",
            "---  ------     --------------  -----  \n",
            " 0   country    1116 non-null   object \n",
            " 1   segment    1116 non-null   object \n",
            " 2   emissions  1116 non-null   float64\n",
            "dtypes: float64(1), object(2)\n",
            "memory usage: 34.9+ KB\n"
          ]
        }
      ],
      "source": [
        "df_country_segment_emission = df[['country','segment','emissions']].copy()\n",
        "df_country_segment_emission.info()"
      ]
    },
    {
      "cell_type": "code",
      "execution_count": null,
      "metadata": {
        "id": "1BKw5iHPmu4x"
      },
      "outputs": [],
      "source": []
    }
  ],
  "metadata": {
    "kernelspec": {
      "display_name": "Python 3",
      "language": "python",
      "name": "python3"
    },
    "language_info": {
      "codemirror_mode": {
        "name": "ipython",
        "version": 3
      },
      "file_extension": ".py",
      "mimetype": "text/x-python",
      "name": "python",
      "nbconvert_exporter": "python",
      "pygments_lexer": "ipython3",
      "version": "3.10.6"
    },
    "orig_nbformat": 4,
    "colab": {
      "provenance": [],
      "include_colab_link": true
    }
  },
  "nbformat": 4,
  "nbformat_minor": 0
}